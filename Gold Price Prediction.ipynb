{
 "cells": [
  {
   "cell_type": "markdown",
   "id": "f3a15782",
   "metadata": {},
   "source": [
    "# Gold Price Prediction"
   ]
  },
  {
   "cell_type": "markdown",
   "id": "1b6e64ed",
   "metadata": {},
   "source": [
    "# Data Description\n",
    "\n",
    "This is the Gold Price Dataset.The dataset gives you information about a gold prices based on several other stock prices as given below in which you will have to analyze the gold price and build best machine learning model to predict the gold price"
   ]
  },
  {
   "cell_type": "markdown",
   "id": "f4794be8",
   "metadata": {},
   "source": [
    "# Data set columns"
   ]
  },
  {
   "cell_type": "markdown",
   "id": "119587f1",
   "metadata": {},
   "source": [
    "Date - mm/dd/yyyy"
   ]
  },
  {
   "cell_type": "markdown",
   "id": "c9faf808",
   "metadata": {},
   "source": [
    "PX - is a free-float weighed measurement stock market index of the 500 largest companies listed on stock exchanges in the united states."
   ]
  },
  {
   "cell_type": "markdown",
   "id": "61cd11c7",
   "metadata": {},
   "source": [
    "GLD - Gold Price"
   ]
  },
  {
   "cell_type": "markdown",
   "id": "08a4a1c0",
   "metadata": {},
   "source": [
    "SLV - Silver Price"
   ]
  },
  {
   "cell_type": "markdown",
   "id": "61b3c05e",
   "metadata": {},
   "source": [
    "EUR/USD - Currency pair quotation of the Euro against the US"
   ]
  },
  {
   "cell_type": "markdown",
   "id": "300461c4",
   "metadata": {},
   "source": [
    "# Importing the Liabraries"
   ]
  },
  {
   "cell_type": "code",
   "execution_count": 1,
   "id": "a5f8f60d",
   "metadata": {},
   "outputs": [],
   "source": [
    "import numpy as np\n",
    "import pandas as pd\n",
    "import matplotlib.pyplot as plt\n",
    "import seaborn as sns\n",
    "import warnings\n",
    "warnings.filterwarnings('ignore')\n",
    "from sklearn.model_selection import train_test_split"
   ]
  },
  {
   "cell_type": "code",
   "execution_count": 2,
   "id": "5957b8f4",
   "metadata": {},
   "outputs": [],
   "source": [
    "# Data Collecting and Processing"
   ]
  },
  {
   "cell_type": "code",
   "execution_count": 3,
   "id": "cfd7a164",
   "metadata": {},
   "outputs": [],
   "source": [
    "df = pd.read_csv('gld_price_data.csv')"
   ]
  },
  {
   "cell_type": "code",
   "execution_count": 4,
   "id": "467056f9",
   "metadata": {},
   "outputs": [
    {
     "data": {
      "text/html": [
       "<div>\n",
       "<style scoped>\n",
       "    .dataframe tbody tr th:only-of-type {\n",
       "        vertical-align: middle;\n",
       "    }\n",
       "\n",
       "    .dataframe tbody tr th {\n",
       "        vertical-align: top;\n",
       "    }\n",
       "\n",
       "    .dataframe thead th {\n",
       "        text-align: right;\n",
       "    }\n",
       "</style>\n",
       "<table border=\"1\" class=\"dataframe\">\n",
       "  <thead>\n",
       "    <tr style=\"text-align: right;\">\n",
       "      <th></th>\n",
       "      <th>Date</th>\n",
       "      <th>SPX</th>\n",
       "      <th>GLD</th>\n",
       "      <th>USO</th>\n",
       "      <th>SLV</th>\n",
       "      <th>EUR/USD</th>\n",
       "    </tr>\n",
       "  </thead>\n",
       "  <tbody>\n",
       "    <tr>\n",
       "      <th>0</th>\n",
       "      <td>1/2/2008</td>\n",
       "      <td>1447.160034</td>\n",
       "      <td>84.860001</td>\n",
       "      <td>78.470001</td>\n",
       "      <td>15.180</td>\n",
       "      <td>1.471692</td>\n",
       "    </tr>\n",
       "    <tr>\n",
       "      <th>1</th>\n",
       "      <td>1/3/2008</td>\n",
       "      <td>1447.160034</td>\n",
       "      <td>85.570000</td>\n",
       "      <td>78.370003</td>\n",
       "      <td>15.285</td>\n",
       "      <td>1.474491</td>\n",
       "    </tr>\n",
       "    <tr>\n",
       "      <th>2</th>\n",
       "      <td>1/4/2008</td>\n",
       "      <td>1411.630005</td>\n",
       "      <td>85.129997</td>\n",
       "      <td>77.309998</td>\n",
       "      <td>15.167</td>\n",
       "      <td>1.475492</td>\n",
       "    </tr>\n",
       "    <tr>\n",
       "      <th>3</th>\n",
       "      <td>1/7/2008</td>\n",
       "      <td>1416.180054</td>\n",
       "      <td>84.769997</td>\n",
       "      <td>75.500000</td>\n",
       "      <td>15.053</td>\n",
       "      <td>1.468299</td>\n",
       "    </tr>\n",
       "    <tr>\n",
       "      <th>4</th>\n",
       "      <td>1/8/2008</td>\n",
       "      <td>1390.189941</td>\n",
       "      <td>86.779999</td>\n",
       "      <td>76.059998</td>\n",
       "      <td>15.590</td>\n",
       "      <td>1.557099</td>\n",
       "    </tr>\n",
       "  </tbody>\n",
       "</table>\n",
       "</div>"
      ],
      "text/plain": [
       "       Date          SPX        GLD        USO     SLV   EUR/USD\n",
       "0  1/2/2008  1447.160034  84.860001  78.470001  15.180  1.471692\n",
       "1  1/3/2008  1447.160034  85.570000  78.370003  15.285  1.474491\n",
       "2  1/4/2008  1411.630005  85.129997  77.309998  15.167  1.475492\n",
       "3  1/7/2008  1416.180054  84.769997  75.500000  15.053  1.468299\n",
       "4  1/8/2008  1390.189941  86.779999  76.059998  15.590  1.557099"
      ]
     },
     "execution_count": 4,
     "metadata": {},
     "output_type": "execute_result"
    }
   ],
   "source": [
    "df.head()"
   ]
  },
  {
   "cell_type": "code",
   "execution_count": 5,
   "id": "2e2b25af",
   "metadata": {},
   "outputs": [
    {
     "data": {
      "text/plain": [
       "(2290, 6)"
      ]
     },
     "execution_count": 5,
     "metadata": {},
     "output_type": "execute_result"
    }
   ],
   "source": [
    "# find the number of rows and columns\n",
    "df.shape"
   ]
  },
  {
   "cell_type": "code",
   "execution_count": 6,
   "id": "a80a56e5",
   "metadata": {},
   "outputs": [
    {
     "name": "stdout",
     "output_type": "stream",
     "text": [
      "<class 'pandas.core.frame.DataFrame'>\n",
      "RangeIndex: 2290 entries, 0 to 2289\n",
      "Data columns (total 6 columns):\n",
      " #   Column   Non-Null Count  Dtype  \n",
      "---  ------   --------------  -----  \n",
      " 0   Date     2290 non-null   object \n",
      " 1   SPX      2290 non-null   float64\n",
      " 2   GLD      2290 non-null   float64\n",
      " 3   USO      2290 non-null   float64\n",
      " 4   SLV      2290 non-null   float64\n",
      " 5   EUR/USD  2290 non-null   float64\n",
      "dtypes: float64(5), object(1)\n",
      "memory usage: 107.5+ KB\n"
     ]
    }
   ],
   "source": [
    "# check the df structure\n",
    "df.info()"
   ]
  },
  {
   "cell_type": "code",
   "execution_count": 7,
   "id": "84a942e0",
   "metadata": {},
   "outputs": [
    {
     "data": {
      "text/plain": [
       "Date       0\n",
       "SPX        0\n",
       "GLD        0\n",
       "USO        0\n",
       "SLV        0\n",
       "EUR/USD    0\n",
       "dtype: int64"
      ]
     },
     "execution_count": 7,
     "metadata": {},
     "output_type": "execute_result"
    }
   ],
   "source": [
    "df.isnull().sum()"
   ]
  },
  {
   "cell_type": "code",
   "execution_count": 8,
   "id": "9053ae2d",
   "metadata": {
    "scrolled": true
   },
   "outputs": [
    {
     "data": {
      "text/html": [
       "<div>\n",
       "<style scoped>\n",
       "    .dataframe tbody tr th:only-of-type {\n",
       "        vertical-align: middle;\n",
       "    }\n",
       "\n",
       "    .dataframe tbody tr th {\n",
       "        vertical-align: top;\n",
       "    }\n",
       "\n",
       "    .dataframe thead th {\n",
       "        text-align: right;\n",
       "    }\n",
       "</style>\n",
       "<table border=\"1\" class=\"dataframe\">\n",
       "  <thead>\n",
       "    <tr style=\"text-align: right;\">\n",
       "      <th></th>\n",
       "      <th>SPX</th>\n",
       "      <th>GLD</th>\n",
       "      <th>USO</th>\n",
       "      <th>SLV</th>\n",
       "      <th>EUR/USD</th>\n",
       "    </tr>\n",
       "  </thead>\n",
       "  <tbody>\n",
       "    <tr>\n",
       "      <th>count</th>\n",
       "      <td>2290.000000</td>\n",
       "      <td>2290.000000</td>\n",
       "      <td>2290.000000</td>\n",
       "      <td>2290.000000</td>\n",
       "      <td>2290.000000</td>\n",
       "    </tr>\n",
       "    <tr>\n",
       "      <th>mean</th>\n",
       "      <td>1654.315776</td>\n",
       "      <td>122.732875</td>\n",
       "      <td>31.842221</td>\n",
       "      <td>20.084997</td>\n",
       "      <td>1.283653</td>\n",
       "    </tr>\n",
       "    <tr>\n",
       "      <th>std</th>\n",
       "      <td>519.111540</td>\n",
       "      <td>23.283346</td>\n",
       "      <td>19.523517</td>\n",
       "      <td>7.092566</td>\n",
       "      <td>0.131547</td>\n",
       "    </tr>\n",
       "    <tr>\n",
       "      <th>min</th>\n",
       "      <td>676.530029</td>\n",
       "      <td>70.000000</td>\n",
       "      <td>7.960000</td>\n",
       "      <td>8.850000</td>\n",
       "      <td>1.039047</td>\n",
       "    </tr>\n",
       "    <tr>\n",
       "      <th>25%</th>\n",
       "      <td>1239.874969</td>\n",
       "      <td>109.725000</td>\n",
       "      <td>14.380000</td>\n",
       "      <td>15.570000</td>\n",
       "      <td>1.171313</td>\n",
       "    </tr>\n",
       "    <tr>\n",
       "      <th>50%</th>\n",
       "      <td>1551.434998</td>\n",
       "      <td>120.580002</td>\n",
       "      <td>33.869999</td>\n",
       "      <td>17.268500</td>\n",
       "      <td>1.303297</td>\n",
       "    </tr>\n",
       "    <tr>\n",
       "      <th>75%</th>\n",
       "      <td>2073.010070</td>\n",
       "      <td>132.840004</td>\n",
       "      <td>37.827501</td>\n",
       "      <td>22.882500</td>\n",
       "      <td>1.369971</td>\n",
       "    </tr>\n",
       "    <tr>\n",
       "      <th>max</th>\n",
       "      <td>2872.870117</td>\n",
       "      <td>184.589996</td>\n",
       "      <td>117.480003</td>\n",
       "      <td>47.259998</td>\n",
       "      <td>1.598798</td>\n",
       "    </tr>\n",
       "  </tbody>\n",
       "</table>\n",
       "</div>"
      ],
      "text/plain": [
       "               SPX          GLD          USO          SLV      EUR/USD\n",
       "count  2290.000000  2290.000000  2290.000000  2290.000000  2290.000000\n",
       "mean   1654.315776   122.732875    31.842221    20.084997     1.283653\n",
       "std     519.111540    23.283346    19.523517     7.092566     0.131547\n",
       "min     676.530029    70.000000     7.960000     8.850000     1.039047\n",
       "25%    1239.874969   109.725000    14.380000    15.570000     1.171313\n",
       "50%    1551.434998   120.580002    33.869999    17.268500     1.303297\n",
       "75%    2073.010070   132.840004    37.827501    22.882500     1.369971\n",
       "max    2872.870117   184.589996   117.480003    47.259998     1.598798"
      ]
     },
     "execution_count": 8,
     "metadata": {},
     "output_type": "execute_result"
    }
   ],
   "source": [
    "df.describe()"
   ]
  },
  {
   "cell_type": "markdown",
   "id": "af5fff12",
   "metadata": {},
   "source": [
    "# Exploratary Data Analysis"
   ]
  },
  {
   "cell_type": "code",
   "execution_count": 9,
   "id": "66745c82",
   "metadata": {},
   "outputs": [
    {
     "name": "stdout",
     "output_type": "stream",
     "text": [
      "Date 2290\n",
      "SPX 2277\n",
      "GLD 1930\n",
      "USO 1514\n",
      "SLV 1331\n",
      "EUR/USD 2066\n"
     ]
    }
   ],
   "source": [
    "# find features with one value\n",
    "\n",
    "for column in df.columns:\n",
    "    print(column,df[column].nunique())"
   ]
  },
  {
   "cell_type": "code",
   "execution_count": 10,
   "id": "a6646c8c",
   "metadata": {},
   "outputs": [],
   "source": [
    "correlation = df.corr()"
   ]
  },
  {
   "cell_type": "code",
   "execution_count": 11,
   "id": "1ef56e1b",
   "metadata": {},
   "outputs": [
    {
     "data": {
      "text/plain": [
       "<AxesSubplot:>"
      ]
     },
     "execution_count": 11,
     "metadata": {},
     "output_type": "execute_result"
    },
    {
     "data": {
      "image/png": "[encoded data removed]",
      "text/plain": [
       "<Figure size 700x700 with 2 Axes>"
      ]
     },
     "metadata": {},
     "output_type": "display_data"
    }
   ],
   "source": [
    "plt.figure(figsize = (7,7))\n",
    "sns.heatmap(correlation, cbar=True, square=True, fmt='.1f',annot=True, annot_kws={'size':7}, cmap='plasma')"
   ]
  },
  {
   "cell_type": "code",
   "execution_count": 12,
   "id": "0ce66fb0",
   "metadata": {},
   "outputs": [
    {
     "data": {
      "image/png": "[encoded data removed]",
      "text/plain": [
       "<Figure size 640x480 with 1 Axes>"
      ]
     },
     "metadata": {},
     "output_type": "display_data"
    }
   ],
   "source": [
    "df[\"EUR/USD\"].plot()\n",
    "plt.title(\"Change in price of gold through date\")\n",
    "plt.xlabel(\"date\")\n",
    "plt.ylabel(\"price\")\n",
    "plt.show()"
   ]
  },
  {
   "cell_type": "code",
   "execution_count": 13,
   "id": "8965111f",
   "metadata": {},
   "outputs": [
    {
     "name": "stdout",
     "output_type": "stream",
     "text": [
      "SPX        0.049345\n",
      "GLD        1.000000\n",
      "USO       -0.186360\n",
      "SLV        0.866632\n",
      "EUR/USD   -0.024375\n",
      "Name: GLD, dtype: float64\n"
     ]
    }
   ],
   "source": [
    "print(correlation['GLD'])"
   ]
  },
  {
   "cell_type": "code",
   "execution_count": 14,
   "id": "b394032b",
   "metadata": {},
   "outputs": [
    {
     "data": {
      "text/plain": [
       "<AxesSubplot:xlabel='GLD', ylabel='Density'>"
      ]
     },
     "execution_count": 14,
     "metadata": {},
     "output_type": "execute_result"
    },
    {
     "data": {
      "image/png": "[encoded data removed]",
      "text/plain": [
       "<Figure size 640x480 with 1 Axes>"
      ]
     },
     "metadata": {},
     "output_type": "display_data"
    }
   ],
   "source": [
    "sns.distplot(df['GLD'],color='green')"
   ]
  },
  {
   "cell_type": "code",
   "execution_count": 15,
   "id": "86e6f083",
   "metadata": {},
   "outputs": [
    {
     "name": "stdout",
     "output_type": "stream",
     "text": [
      "SPX        0.300362\n",
      "GLD        0.334138\n",
      "USO        1.699331\n",
      "SLV        1.153641\n",
      "EUR/USD   -0.005292\n",
      "dtype: float64\n"
     ]
    }
   ],
   "source": [
    "print(df.skew(axis=0, skipna=True))"
   ]
  },
  {
   "cell_type": "code",
   "execution_count": 16,
   "id": "f9a2f914",
   "metadata": {},
   "outputs": [],
   "source": [
    "df[\"USO\"] = df[\"USO\"].apply(lambda x: np.sqrt(x))"
   ]
  },
  {
   "cell_type": "code",
   "execution_count": 17,
   "id": "41bfd6d5",
   "metadata": {},
   "outputs": [
    {
     "data": {
      "image/png": "[encoded data removed]",
      "text/plain": [
       "<Figure size 800x800 with 5 Axes>"
      ]
     },
     "metadata": {},
     "output_type": "display_data"
    }
   ],
   "source": [
    "fig = plt.figure(figsize=(8, 8))\n",
    "temp = df.drop(\"Date\", axis=1).columns.tolist()\n",
    "for i, item in enumerate(temp):\n",
    "    plt.subplot(2, 3, i+1)\n",
    "    sns.boxplot(data=df, x=item)\n",
    "plt.tight_layout(pad=0.4, w_pad=0.5, h_pad=2.0)\n",
    "plt.show()"
   ]
  },
  {
   "cell_type": "code",
   "execution_count": 18,
   "id": "ec54df1e",
   "metadata": {},
   "outputs": [],
   "source": [
    "def outlier_removal(column):\n",
    "    upper_limit = column.quantile(.95)\n",
    "    lower_limit = column.quantile(.05)\n",
    "    column.loc[(column > upper_limit)] = upper_limit\n",
    "    column.loc[(column < lower_limit)] = lower_limit\n",
    "    return column"
   ]
  },
  {
   "cell_type": "code",
   "execution_count": 19,
   "id": "4aece439",
   "metadata": {},
   "outputs": [],
   "source": [
    "df[['SPX', 'GLD', 'USO', 'EUR/USD']] = df[['SPX', 'GLD', 'USO', 'EUR/USD']].apply(outlier_removal)"
   ]
  },
  {
   "cell_type": "code",
   "execution_count": 20,
   "id": "ea2aeb6b",
   "metadata": {},
   "outputs": [
    {
     "name": "stdout",
     "output_type": "stream",
     "text": [
      "Date       0\n",
      "SPX        0\n",
      "GLD        0\n",
      "USO        0\n",
      "SLV        0\n",
      "EUR/USD    0\n",
      "dtype: int64\n"
     ]
    }
   ],
   "source": [
    "missing_values = df.isnull().sum()\n",
    "print(missing_values)"
   ]
  },
  {
   "cell_type": "code",
   "execution_count": 21,
   "id": "d7bea219",
   "metadata": {},
   "outputs": [],
   "source": [
    "df.dropna(inplace=True)"
   ]
  },
  {
   "cell_type": "code",
   "execution_count": 22,
   "id": "cbf1c81d",
   "metadata": {},
   "outputs": [
    {
     "name": "stdout",
     "output_type": "stream",
     "text": [
      "Date       0\n",
      "SPX        0\n",
      "GLD        0\n",
      "USO        0\n",
      "SLV        0\n",
      "EUR/USD    0\n",
      "dtype: int64\n"
     ]
    }
   ],
   "source": [
    "missing_values = df.isnull().sum()\n",
    "print(missing_values)"
   ]
  },
  {
   "cell_type": "code",
   "execution_count": 23,
   "id": "b720018b",
   "metadata": {},
   "outputs": [],
   "source": [
    "# splitting the Features and Target"
   ]
  },
  {
   "cell_type": "code",
   "execution_count": 24,
   "id": "16bd64c1",
   "metadata": {},
   "outputs": [],
   "source": [
    "x = df.drop(['Date','GLD'],axis=1)\n",
    "y = df['GLD']"
   ]
  },
  {
   "cell_type": "code",
   "execution_count": 25,
   "id": "f061b8b7",
   "metadata": {},
   "outputs": [
    {
     "name": "stdout",
     "output_type": "stream",
     "text": [
      "              SPX       USO      SLV   EUR/USD\n",
      "0     1447.160034  8.830510  15.1800  1.471692\n",
      "1     1447.160034  8.830510  15.2850  1.474491\n",
      "2     1411.630005  8.792610  15.1670  1.475492\n",
      "3     1416.180054  8.689074  15.0530  1.468299\n",
      "4     1390.189941  8.721238  15.5900  1.491295\n",
      "...           ...       ...      ...       ...\n",
      "2285  2588.071045  3.749667  15.5100  1.186789\n",
      "2286  2588.071045  3.790778  15.5300  1.184722\n",
      "2287  2588.071045  3.796051  15.7400  1.191753\n",
      "2288  2588.071045  3.792097  15.5600  1.193118\n",
      "2289  2588.071045  3.795497  15.4542  1.182033\n",
      "\n",
      "[2290 rows x 4 columns]\n"
     ]
    }
   ],
   "source": [
    "print(x)"
   ]
  },
  {
   "cell_type": "code",
   "execution_count": 26,
   "id": "ac769219",
   "metadata": {},
   "outputs": [
    {
     "name": "stdout",
     "output_type": "stream",
     "text": [
      "0        86.816000\n",
      "1        86.816000\n",
      "2        86.816000\n",
      "3        86.816000\n",
      "4        86.816000\n",
      "           ...    \n",
      "2285    124.589996\n",
      "2286    124.330002\n",
      "2287    125.180000\n",
      "2288    124.489998\n",
      "2289    122.543800\n",
      "Name: GLD, Length: 2290, dtype: float64\n"
     ]
    }
   ],
   "source": [
    "print(y)"
   ]
  },
  {
   "cell_type": "code",
   "execution_count": 27,
   "id": "d57d2bd9",
   "metadata": {},
   "outputs": [],
   "source": [
    "# splitting into Training data and test data"
   ]
  },
  {
   "cell_type": "code",
   "execution_count": 28,
   "id": "3c9f591f",
   "metadata": {},
   "outputs": [],
   "source": [
    "xtrain,xtest,ytrain,ytest = train_test_split(x,y,test_size = 0.25, random_state=2)"
   ]
  },
  {
   "cell_type": "code",
   "execution_count": 29,
   "id": "e72c1d2c",
   "metadata": {},
   "outputs": [],
   "source": [
    "from sklearn.ensemble import RandomForestRegressor"
   ]
  },
  {
   "cell_type": "code",
   "execution_count": 30,
   "id": "b733638c",
   "metadata": {},
   "outputs": [],
   "source": [
    "RF = RandomForestRegressor(n_estimators=100)"
   ]
  },
  {
   "cell_type": "code",
   "execution_count": 31,
   "id": "6d07c658",
   "metadata": {},
   "outputs": [
    {
     "data": {
      "text/plain": [
       "RandomForestRegressor()"
      ]
     },
     "execution_count": 31,
     "metadata": {},
     "output_type": "execute_result"
    }
   ],
   "source": [
    "# Training the model\n",
    "RF.fit(xtrain,ytrain)"
   ]
  },
  {
   "cell_type": "code",
   "execution_count": 32,
   "id": "43032114",
   "metadata": {},
   "outputs": [],
   "source": [
    "rf_predict = RF.predict(xtest)"
   ]
  },
  {
   "cell_type": "code",
   "execution_count": 33,
   "id": "d6f1032a",
   "metadata": {
    "scrolled": true
   },
   "outputs": [
    {
     "name": "stdout",
     "output_type": "stream",
     "text": [
      "[166.51888366  86.93421987 115.4288986  127.55290023 120.63160162\n",
      " 154.65339751 150.7131983  126.07470008 117.95289874 125.97300037\n",
      " 116.30550055 166.34028381 140.74889902 166.51991372 115.08359966\n",
      " 117.64050025 139.47780241 166.5230039  160.1825937  155.46070187\n",
      " 155.23100026 125.24759999 166.49037381 156.42170276 125.10730026\n",
      "  94.19619993  86.8159999  120.25369981 119.19710008 166.3292036\n",
      "  88.02244102 125.03030137  91.28650096 117.67349997 121.18539879\n",
      " 136.33190055 115.54710132 115.34050091 147.58889971 107.3000011\n",
      " 103.50580214  87.24345826 126.39449961 118.05369941 151.81899858\n",
      " 120.02799972 108.35300066 107.98049852  93.12949988 127.00419796\n",
      "  86.8159999  113.66469924 120.94670011 111.066299   118.93039871\n",
      " 120.08269937 159.42919932 163.24534336 147.02869688  86.9487798\n",
      "  93.85650034  87.19987968  90.46770028 118.49170088 126.5710012\n",
      " 127.73069977 164.59056195 122.19529913 117.44799925  98.84100019\n",
      " 166.3064822  143.01459799 132.73210221 121.37150205 121.84839927\n",
      " 120.04760075 114.70630167 118.32810063 107.06340106 127.99370094\n",
      " 114.2002996  107.60610029 116.82470075 119.6926991   87.09525793\n",
      "  88.87675977 146.41200174 127.15109968 112.99330038 109.28269823\n",
      " 108.08349939  86.8159999  165.44092224 114.59939909 121.64099908\n",
      " 127.74120186 154.88509811  92.23729953 136.18400138 159.18120474\n",
      " 125.63650065 125.28110042 130.90360112 115.06970133 119.80900015\n",
      "  92.03619999 110.10889885 163.9102903  155.92272895 114.79470016\n",
      " 106.77020117  86.8159999  113.1541005  125.7580004  106.93800046\n",
      " 119.74550093 155.84580317 160.14659943 120.28149981 134.93210244\n",
      " 101.26880001 117.49799784 119.50530071 112.9730008  102.68759917\n",
      " 160.35889726  98.79850024 146.7788195  125.50320093 166.07673342\n",
      " 126.1350985  127.37429767 127.13190134 113.71299937 112.94120041\n",
      " 123.75799906 101.99389868  88.74293989 124.48899935 101.48569942\n",
      " 106.79239881 113.89730105 117.2298007   99.28079935 121.9727004\n",
      " 162.59195944  87.18125778 107.15279893 117.37290092 127.7474015\n",
      " 124.22510024  86.8159999  120.28260069 158.87449892  87.83931984\n",
      " 110.19029977 119.06139913 166.5230039  102.8150995  105.54410025\n",
      " 122.63380026 159.25929841  88.08777832  93.22910035 112.80770073\n",
      " 166.49037381 114.67059944 119.50340029  95.1348009  125.48310026\n",
      " 165.60994104 115.18390082 117.03240137  88.9428991  148.80650116\n",
      " 120.44739912  89.3824     112.36800039 117.35960011 118.83140132\n",
      "  87.7426802   94.45159994 116.64969965 119.03720032 120.36030028\n",
      " 126.56909814 121.81069946 150.6125603  164.00355226 118.68009946\n",
      " 120.14770077 149.22910112 118.36639901 166.5230039  105.84259912\n",
      " 105.37349996 149.30476108 113.97290065 124.4975007  147.10485905\n",
      " 119.68940086 115.66550037 112.29150027 113.40670229 141.43530086\n",
      " 117.79439767 102.9155004  115.90990104 102.85140137  99.0528002\n",
      " 116.90610005  91.1642997   91.47050019 153.6002998  102.77869932\n",
      " 154.50590097 114.3273017  138.13133187  90.33129758 115.661699\n",
      " 114.1291014  123.09510039 121.56190005 165.20512197  92.82109864\n",
      " 135.2183014  121.36229947 120.63090097 104.47599983 140.83400334\n",
      " 122.16049911 116.68620037 113.24600086 126.95629741 122.4382995\n",
      " 125.74439998 121.20440052  87.15158006 132.27990206 145.38250168\n",
      "  93.10899995 155.8573007  158.55480368 125.66330023 163.36335127\n",
      " 108.64969979 110.67800099 103.82709817  93.60470222 127.57250295\n",
      " 107.00229998 159.16850197 121.89380059 132.06870021 131.16800084\n",
      " 161.24951968  90.00419812 165.96391367 128.30650008 126.63119838\n",
      "  86.96113978 124.53159938 149.9252977   89.38030001 107.25919907\n",
      " 108.87029979  88.61139999 135.71280021 154.44680028 138.71010382\n",
      "  86.8159999  151.43590093 125.90430154 126.81730028 127.51049899\n",
      " 108.50899943 155.59530116 114.62280106 116.8833015  125.6167994\n",
      " 153.67150144 121.51560026 156.21599964  92.86730048 125.77580126\n",
      " 125.33190042  88.35798072  91.64449944 126.61809863 128.19290343\n",
      " 113.30000072 117.71309753 120.93560004 127.11039769 119.61020076\n",
      " 137.22510059  93.89159945 120.5308009  114.45110025  94.28879971\n",
      " 108.41979977  88.57956003 109.61519886  89.66866017  92.06589915\n",
      " 131.77270203 162.63702963  89.82100007 119.68510118 133.20800166\n",
      " 123.67999973 127.90599974 101.88939828  89.1482587  131.79710051\n",
      " 120.8438007  108.71600001 163.03049306 115.13770075  86.94011994\n",
      " 118.77080008  91.14300061 161.73309053 116.62720012 121.40620017\n",
      " 160.16149793 119.90179915 112.91569983 108.53489858 126.47739961\n",
      "  86.8159999  103.03139996 127.24950255 121.81489954  92.63609908\n",
      " 131.94810061 118.00970145 116.03469986 154.63610237 159.4176012\n",
      " 110.24889939 156.28755051 119.07110071 160.37040036 118.73300093\n",
      " 156.2058004  115.15469927 116.43670002 148.39940894 114.94760065\n",
      " 125.9222989  164.82545313 117.38499987 125.0862995  153.19430335\n",
      " 153.55130213 132.10830043 114.68720047 121.29660207 124.8341004\n",
      "  89.11216135 123.22880008 153.71910136 111.94220047 106.96069942\n",
      " 162.18922072 118.83620002 165.56179939 133.98720107 114.52129996\n",
      " 153.05699902 166.49622389 115.33520093 113.93660147 156.72619827\n",
      "  86.83415978 127.18439986 127.86540033 128.81539927 124.46320085\n",
      " 123.49070039  90.28890002 153.04840054  97.74859946 138.94219976\n",
      "  89.21625936 107.62000034 115.15840054 112.39220081 123.8225993\n",
      "  91.45179881 125.31540153 162.41579905 119.93379922 164.50046238\n",
      " 126.53009803 112.36650026 127.22659926  94.57060174  90.42839982\n",
      " 102.56029922 120.86620006  86.8159999  126.15249955 161.50764383\n",
      " 117.79580168 118.27319932 119.40099984 122.62829984 120.18230114\n",
      " 121.51430063 118.25649976 106.68429925 148.51310068 126.59679838\n",
      " 115.62790084  86.8159999  127.86660159 154.73880168 122.02059978\n",
      " 125.63800084  89.13786032 102.33079878 124.62700037 120.20190053\n",
      "  86.8159999  151.02170127 120.97690029 105.21059966  87.20841876\n",
      " 115.0087989  166.5230039  119.41270036 159.24279844 113.12279965\n",
      " 121.02260056 118.39450146  95.67169969 118.80230062 126.20180022\n",
      " 118.34099959  95.53230135 153.87240174 121.92049984 146.97043077\n",
      " 159.16030335 112.76670008 121.99660015 150.68177913 127.15100016\n",
      " 165.68581186 134.83350069 120.18539974 166.11113105 108.25419905\n",
      " 121.68390009 140.71020051 108.18239878 109.7987997  113.63210119\n",
      "  90.20479981 125.77530072 119.76040149  93.51810205 151.61939969\n",
      " 116.2105999   86.8159999  121.78610012 101.82640125 127.63330002\n",
      " 123.4737988  118.51510113 120.57050021 120.76330012 131.61110113\n",
      " 117.8122988  117.41509881 115.71229919 104.45450006 153.24970174\n",
      " 109.47089695 125.51420022  86.95873982 166.47778382  93.28070071\n",
      " 166.01813291 105.45400095 166.3216738  154.58640067 132.74180202\n",
      " 120.49309889 123.4922989  140.52185068 125.20429922 114.12330116\n",
      " 125.31760103 122.30820003 138.22720149  86.8159999   92.75349994\n",
      " 113.88259866 121.3561997  127.66399817 122.01650052 126.06330135\n",
      " 122.1866001  119.46320072 104.07439931 117.98250011  86.8159999\n",
      "  92.47506101 121.84209979 117.94490035  92.3143008  125.32769996\n",
      "  98.02389765 104.08890052  89.53813914 146.92203107 109.06280012\n",
      " 120.47620113  91.33340115 118.80350003 128.39109818 111.84269896\n",
      " 155.29780079 151.17940224 109.08930133  95.74100021 118.09420004\n",
      " 124.79080146  86.8159999  116.12000061  93.05149951 140.88360186\n",
      " 108.16079987 106.53720122  87.8967599  117.38800009 110.32059826\n",
      " 121.04000065 135.84210034 116.2691016  119.28260055 156.75069997\n",
      " 106.8730012   96.57580073 136.00290082 129.10820176 122.91450027\n",
      " 119.93530135 115.9391998  103.52690138 118.97739875 120.48140105\n",
      " 121.72010071 155.99760085  87.75267827 163.04061011 121.47559949\n",
      " 119.0214003  156.60030308 156.70598066 141.54023899 114.97709962\n",
      " 108.90060043 126.63809886 150.6456024   94.17420124 115.32460002\n",
      " 122.05239992 121.87449881  87.27387918]\n"
     ]
    }
   ],
   "source": [
    "print(rf_predict)"
   ]
  },
  {
   "cell_type": "code",
   "execution_count": 34,
   "id": "21a46935",
   "metadata": {},
   "outputs": [],
   "source": [
    "from sklearn.metrics import r2_score"
   ]
  },
  {
   "cell_type": "code",
   "execution_count": 35,
   "id": "d64ebd8b",
   "metadata": {},
   "outputs": [
    {
     "name": "stdout",
     "output_type": "stream",
     "text": [
      "R squared error :  0.9901188760127176\n"
     ]
    }
   ],
   "source": [
    "r2score = r2_score(ytest,rf_predict)\n",
    "print(\"R squared error : \", r2score)"
   ]
  }
 ],
 "metadata": {
  "kernelspec": {
   "display_name": "Python 3 (ipykernel)",
   "language": "python",
   "name": "python3"
  },
  "language_info": {
   "codemirror_mode": {
    "name": "ipython",
    "version": 3
   },
   "file_extension": ".py",
   "mimetype": "text/x-python",
   "name": "python",
   "nbconvert_exporter": "python",
   "pygments_lexer": "ipython3",
   "version": "3.9.13"
  }
 },
 "nbformat": 4,
 "nbformat_minor": 5
}
